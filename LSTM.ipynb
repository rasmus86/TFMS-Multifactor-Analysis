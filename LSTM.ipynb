{
  "cells": [
    {
      "cell_type": "code",
      "execution_count": 22,
      "metadata": {
        "id": "onSX3uNJPqCj"
      },
      "outputs": [
        {
          "ename": "ModuleNotFoundError",
          "evalue": "No module named 'numpy'",
          "output_type": "error",
          "traceback": [
            "\u001b[0;31m---------------------------------------------------------------------------\u001b[0m",
            "\u001b[0;31mModuleNotFoundError\u001b[0m                       Traceback (most recent call last)",
            "Cell \u001b[0;32mIn[22], line 1\u001b[0m\n\u001b[0;32m----> 1\u001b[0m \u001b[38;5;28;01mimport\u001b[39;00m \u001b[38;5;21;01mnumpy\u001b[39;00m \u001b[38;5;28;01mas\u001b[39;00m \u001b[38;5;21;01mnp\u001b[39;00m\n\u001b[1;32m      2\u001b[0m \u001b[38;5;28;01mimport\u001b[39;00m \u001b[38;5;21;01mpandas\u001b[39;00m \u001b[38;5;28;01mas\u001b[39;00m \u001b[38;5;21;01mpd\u001b[39;00m\n\u001b[1;32m      3\u001b[0m \u001b[38;5;28;01mfrom\u001b[39;00m \u001b[38;5;21;01msklearn\u001b[39;00m\u001b[38;5;21;01m.\u001b[39;00m\u001b[38;5;21;01mpreprocessing\u001b[39;00m \u001b[38;5;28;01mimport\u001b[39;00m MinMaxScaler\n",
            "\u001b[0;31mModuleNotFoundError\u001b[0m: No module named 'numpy'"
          ]
        }
      ],
      "source": [
        "import numpy\n",
        "import pandas as pd\n",
        "from sklearn.preprocessing import MinMaxScaler\n",
        "from keras.models import Sequential\n",
        "from keras.layers import Dense, LSTM\n",
        "import matplotlib.pyplot as plt"
      ]
    },
    {
      "cell_type": "code",
      "execution_count": null,
      "metadata": {
        "colab": {
          "base_uri": "https://localhost:8080/"
        },
        "id": "yf0uNlyQT19l",
        "outputId": "4ef294d1-24e3-443a-e733-d97bc083c8e3"
      },
      "outputs": [
        {
          "ename": "NameError",
          "evalue": "name 'pd' is not defined",
          "output_type": "error",
          "traceback": [
            "\u001b[0;31m---------------------------------------------------------------------------\u001b[0m",
            "\u001b[0;31mNameError\u001b[0m                                 Traceback (most recent call last)",
            "Cell \u001b[0;32mIn[9], line 2\u001b[0m\n\u001b[1;32m      1\u001b[0m \u001b[38;5;66;03m# Reading data into a Pandas DataFrame\u001b[39;00m\n\u001b[0;32m----> 2\u001b[0m tsla_data \u001b[38;5;241m=\u001b[39m \u001b[43mpd\u001b[49m\u001b[38;5;241m.\u001b[39mread_csv(\u001b[38;5;124m'\u001b[39m\u001b[38;5;124mGOOG.csv\u001b[39m\u001b[38;5;124m'\u001b[39m, \n\u001b[1;32m      3\u001b[0m                         names\u001b[38;5;241m=\u001b[39m[\u001b[38;5;124m'\u001b[39m\u001b[38;5;124mDate\u001b[39m\u001b[38;5;124m'\u001b[39m, \u001b[38;5;124m'\u001b[39m\u001b[38;5;124mOpen\u001b[39m\u001b[38;5;124m'\u001b[39m, \u001b[38;5;124m'\u001b[39m\u001b[38;5;124mHigh\u001b[39m\u001b[38;5;124m'\u001b[39m, \u001b[38;5;124m'\u001b[39m\u001b[38;5;124mLow\u001b[39m\u001b[38;5;124m'\u001b[39m, \u001b[38;5;124m'\u001b[39m\u001b[38;5;124mClose\u001b[39m\u001b[38;5;124m'\u001b[39m, \u001b[38;5;124m'\u001b[39m\u001b[38;5;124mAdj Close\u001b[39m\u001b[38;5;124m'\u001b[39m, \u001b[38;5;124m'\u001b[39m\u001b[38;5;124mVolume\u001b[39m\u001b[38;5;124m'\u001b[39m], \n\u001b[1;32m      4\u001b[0m                         header\u001b[38;5;241m=\u001b[39m\u001b[38;5;241m0\u001b[39m)\n\u001b[1;32m      6\u001b[0m \u001b[38;5;66;03m# Extracting the close price from the DataFrame\u001b[39;00m\n\u001b[1;32m      7\u001b[0m tsla_close \u001b[38;5;241m=\u001b[39m tsla_data[\u001b[38;5;124m'\u001b[39m\u001b[38;5;124mClose\u001b[39m\u001b[38;5;124m'\u001b[39m]\u001b[38;5;241m.\u001b[39mvalues\n",
            "\u001b[0;31mNameError\u001b[0m: name 'pd' is not defined"
          ]
        }
      ],
      "source": [
        "# Reading data into a Pandas DataFrame\n",
        "tsla_data = pd.read_csv('GOOG.csv', \n",
        "                        names=['Date', 'Open', 'High', 'Low', 'Close', 'Adj Close', 'Volume'], \n",
        "                        header=0)\n",
        "\n",
        "# Extracting the close price from the DataFrame\n",
        "tsla_close = tsla_data['Close'].values\n"
      ]
    },
    {
      "cell_type": "code",
      "execution_count": null,
      "metadata": {
        "id": "lVpCvMBaT4Kv"
      },
      "outputs": [],
      "source": [
        "# Normalizing the TSLA stock data using MinMaxScaler\n",
        "scaler = MinMaxScaler(feature_range=(0, 1))\n",
        "tsla_close = tsla_close.reshape(-1, 1)\n",
        "tsla_close = scaler.fit_transform(tsla_close)"
      ]
    },
    {
      "cell_type": "code",
      "execution_count": null,
      "metadata": {
        "id": "0vmdVDj_PqbS"
      },
      "outputs": [],
      "source": [
        "\n",
        "# Splitting the TSLA stock data into training and testing sets\n",
        "train_size = int(len(tsla_close) * 0.8)\n",
        "test_size = len(tsla_close) - train_size\n",
        "X_train, Y_train = tsla_close[0:train_size, :], tsla_close[1:train_size+1, :]\n",
        "X_test, Y_test = tsla_close[train_size:len(tsla_close), :], tsla_close[train_size+1:len(tsla_close), :]\n",
        "\n",
        "# Transforming the TSLA stock data into 3D arrays\n",
        "def create_dataset(data, lookback=1):\n",
        "    X, Y = [], []\n",
        "    for i in range(len(data) - lookback - 1):\n",
        "        a = data[i:(i + lookback), 0]\n",
        "        X.append(a)\n",
        "        Y.append(data[i + lookback, 0])\n",
        "    return np.array(X), np.array(Y)\n",
        "\n",
        "lookback = 1\n",
        "X_train, Y_train = create_dataset(X_train, lookback)\n",
        "X_test, Y_test = create_dataset(X_test, lookback)\n",
        "\n",
        "# Reshaping the arrays into 3D arrays\n",
        "X_train = np.reshape(X_train, (X_train.shape[0], X_train.shape[1], 1))\n",
        "X_test = np.reshape(X_test, (X_test.shape[0], X_test.shape[1], 1))\n",
        "\n",
        "\n"
      ]
    },
    {
      "cell_type": "code",
      "execution_count": null,
      "metadata": {
        "colab": {
          "base_uri": "https://localhost:8080/"
        },
        "id": "aizLBwiaT-Rn",
        "outputId": "7f8d794c-12d5-4f8d-8d4b-7b7448882246"
      },
      "outputs": [
        {
          "name": "stdout",
          "output_type": "stream",
          "text": [
            "Epoch 1/100\n",
            "20/20 - 3s - loss: 0.3301 - 3s/epoch - 144ms/step\n",
            "Epoch 2/100\n",
            "20/20 - 0s - loss: 0.2160 - 43ms/epoch - 2ms/step\n",
            "Epoch 3/100\n",
            "20/20 - 0s - loss: 0.0833 - 44ms/epoch - 2ms/step\n",
            "Epoch 4/100\n",
            "20/20 - 0s - loss: 0.0302 - 45ms/epoch - 2ms/step\n",
            "Epoch 5/100\n",
            "20/20 - 0s - loss: 0.0239 - 44ms/epoch - 2ms/step\n",
            "Epoch 6/100\n",
            "20/20 - 0s - loss: 0.0179 - 44ms/epoch - 2ms/step\n",
            "Epoch 7/100\n",
            "20/20 - 0s - loss: 0.0125 - 46ms/epoch - 2ms/step\n",
            "Epoch 8/100\n",
            "20/20 - 0s - loss: 0.0078 - 43ms/epoch - 2ms/step\n",
            "Epoch 9/100\n",
            "20/20 - 0s - loss: 0.0045 - 44ms/epoch - 2ms/step\n",
            "Epoch 10/100\n",
            "20/20 - 0s - loss: 0.0025 - 45ms/epoch - 2ms/step\n",
            "Epoch 11/100\n",
            "20/20 - 0s - loss: 0.0015 - 44ms/epoch - 2ms/step\n",
            "Epoch 12/100\n",
            "20/20 - 0s - loss: 0.0011 - 44ms/epoch - 2ms/step\n",
            "Epoch 13/100\n",
            "20/20 - 0s - loss: 9.7197e-04 - 44ms/epoch - 2ms/step\n",
            "Epoch 14/100\n",
            "20/20 - 0s - loss: 9.4161e-04 - 46ms/epoch - 2ms/step\n",
            "Epoch 15/100\n",
            "20/20 - 0s - loss: 9.3166e-04 - 48ms/epoch - 2ms/step\n",
            "Epoch 16/100\n",
            "20/20 - 0s - loss: 9.1640e-04 - 44ms/epoch - 2ms/step\n",
            "Epoch 17/100\n",
            "20/20 - 0s - loss: 9.0825e-04 - 44ms/epoch - 2ms/step\n",
            "Epoch 18/100\n",
            "20/20 - 0s - loss: 8.9393e-04 - 43ms/epoch - 2ms/step\n",
            "Epoch 19/100\n",
            "20/20 - 0s - loss: 9.0512e-04 - 44ms/epoch - 2ms/step\n",
            "Epoch 20/100\n",
            "20/20 - 0s - loss: 8.7840e-04 - 44ms/epoch - 2ms/step\n",
            "Epoch 21/100\n",
            "20/20 - 0s - loss: 8.7034e-04 - 45ms/epoch - 2ms/step\n",
            "Epoch 22/100\n",
            "20/20 - 0s - loss: 8.5692e-04 - 45ms/epoch - 2ms/step\n",
            "Epoch 23/100\n",
            "20/20 - 0s - loss: 8.3433e-04 - 45ms/epoch - 2ms/step\n",
            "Epoch 24/100\n",
            "20/20 - 0s - loss: 8.3313e-04 - 43ms/epoch - 2ms/step\n",
            "Epoch 25/100\n",
            "20/20 - 0s - loss: 8.1472e-04 - 45ms/epoch - 2ms/step\n",
            "Epoch 26/100\n",
            "20/20 - 0s - loss: 8.0180e-04 - 44ms/epoch - 2ms/step\n",
            "Epoch 27/100\n",
            "20/20 - 0s - loss: 7.9858e-04 - 45ms/epoch - 2ms/step\n",
            "Epoch 28/100\n",
            "20/20 - 0s - loss: 7.7489e-04 - 43ms/epoch - 2ms/step\n",
            "Epoch 29/100\n",
            "20/20 - 0s - loss: 7.7200e-04 - 44ms/epoch - 2ms/step\n",
            "Epoch 30/100\n",
            "20/20 - 0s - loss: 7.6577e-04 - 42ms/epoch - 2ms/step\n",
            "Epoch 31/100\n",
            "20/20 - 0s - loss: 7.5782e-04 - 43ms/epoch - 2ms/step\n",
            "Epoch 32/100\n",
            "20/20 - 0s - loss: 7.4605e-04 - 44ms/epoch - 2ms/step\n",
            "Epoch 33/100\n",
            "20/20 - 0s - loss: 7.4226e-04 - 44ms/epoch - 2ms/step\n",
            "Epoch 34/100\n",
            "20/20 - 0s - loss: 7.1251e-04 - 45ms/epoch - 2ms/step\n",
            "Epoch 35/100\n",
            "20/20 - 0s - loss: 6.9552e-04 - 45ms/epoch - 2ms/step\n",
            "Epoch 36/100\n",
            "20/20 - 0s - loss: 6.8718e-04 - 45ms/epoch - 2ms/step\n",
            "Epoch 37/100\n",
            "20/20 - 0s - loss: 6.6992e-04 - 48ms/epoch - 2ms/step\n",
            "Epoch 38/100\n",
            "20/20 - 0s - loss: 6.6481e-04 - 46ms/epoch - 2ms/step\n",
            "Epoch 39/100\n",
            "20/20 - 0s - loss: 6.5558e-04 - 45ms/epoch - 2ms/step\n",
            "Epoch 40/100\n",
            "20/20 - 0s - loss: 6.4680e-04 - 43ms/epoch - 2ms/step\n",
            "Epoch 41/100\n",
            "20/20 - 0s - loss: 6.3271e-04 - 44ms/epoch - 2ms/step\n",
            "Epoch 42/100\n",
            "20/20 - 0s - loss: 6.2592e-04 - 44ms/epoch - 2ms/step\n",
            "Epoch 43/100\n",
            "20/20 - 0s - loss: 6.1084e-04 - 43ms/epoch - 2ms/step\n",
            "Epoch 44/100\n",
            "20/20 - 0s - loss: 6.0165e-04 - 44ms/epoch - 2ms/step\n",
            "Epoch 45/100\n",
            "20/20 - 0s - loss: 5.8969e-04 - 67ms/epoch - 3ms/step\n",
            "Epoch 46/100\n",
            "20/20 - 0s - loss: 5.7747e-04 - 46ms/epoch - 2ms/step\n",
            "Epoch 47/100\n",
            "20/20 - 0s - loss: 5.8354e-04 - 45ms/epoch - 2ms/step\n",
            "Epoch 48/100\n",
            "20/20 - 0s - loss: 5.7280e-04 - 44ms/epoch - 2ms/step\n",
            "Epoch 49/100\n",
            "20/20 - 0s - loss: 5.5315e-04 - 45ms/epoch - 2ms/step\n",
            "Epoch 50/100\n",
            "20/20 - 0s - loss: 5.4234e-04 - 44ms/epoch - 2ms/step\n",
            "Epoch 51/100\n",
            "20/20 - 0s - loss: 5.4477e-04 - 44ms/epoch - 2ms/step\n",
            "Epoch 52/100\n",
            "20/20 - 0s - loss: 5.4662e-04 - 43ms/epoch - 2ms/step\n",
            "Epoch 53/100\n",
            "20/20 - 0s - loss: 5.5852e-04 - 43ms/epoch - 2ms/step\n",
            "Epoch 54/100\n",
            "20/20 - 0s - loss: 5.2135e-04 - 45ms/epoch - 2ms/step\n",
            "Epoch 55/100\n",
            "20/20 - 0s - loss: 5.1285e-04 - 48ms/epoch - 2ms/step\n",
            "Epoch 56/100\n",
            "20/20 - 0s - loss: 5.0509e-04 - 49ms/epoch - 2ms/step\n",
            "Epoch 57/100\n",
            "20/20 - 0s - loss: 5.0863e-04 - 44ms/epoch - 2ms/step\n",
            "Epoch 58/100\n",
            "20/20 - 0s - loss: 5.0274e-04 - 45ms/epoch - 2ms/step\n",
            "Epoch 59/100\n",
            "20/20 - 0s - loss: 4.9501e-04 - 44ms/epoch - 2ms/step\n",
            "Epoch 60/100\n",
            "20/20 - 0s - loss: 4.8339e-04 - 45ms/epoch - 2ms/step\n",
            "Epoch 61/100\n",
            "20/20 - 0s - loss: 4.8173e-04 - 43ms/epoch - 2ms/step\n",
            "Epoch 62/100\n",
            "20/20 - 0s - loss: 4.7094e-04 - 44ms/epoch - 2ms/step\n",
            "Epoch 63/100\n",
            "20/20 - 0s - loss: 4.7305e-04 - 43ms/epoch - 2ms/step\n",
            "Epoch 64/100\n",
            "20/20 - 0s - loss: 4.7435e-04 - 43ms/epoch - 2ms/step\n",
            "Epoch 65/100\n",
            "20/20 - 0s - loss: 4.6388e-04 - 44ms/epoch - 2ms/step\n",
            "Epoch 66/100\n",
            "20/20 - 0s - loss: 4.6118e-04 - 43ms/epoch - 2ms/step\n",
            "Epoch 67/100\n",
            "20/20 - 0s - loss: 4.6155e-04 - 46ms/epoch - 2ms/step\n",
            "Epoch 68/100\n",
            "20/20 - 0s - loss: 4.5784e-04 - 47ms/epoch - 2ms/step\n",
            "Epoch 69/100\n",
            "20/20 - 0s - loss: 4.5622e-04 - 45ms/epoch - 2ms/step\n",
            "Epoch 70/100\n",
            "20/20 - 0s - loss: 4.5844e-04 - 45ms/epoch - 2ms/step\n",
            "Epoch 71/100\n",
            "20/20 - 0s - loss: 4.5164e-04 - 44ms/epoch - 2ms/step\n",
            "Epoch 72/100\n",
            "20/20 - 0s - loss: 4.4663e-04 - 44ms/epoch - 2ms/step\n",
            "Epoch 73/100\n",
            "20/20 - 0s - loss: 4.4915e-04 - 43ms/epoch - 2ms/step\n",
            "Epoch 74/100\n",
            "20/20 - 0s - loss: 4.4957e-04 - 44ms/epoch - 2ms/step\n",
            "Epoch 75/100\n",
            "20/20 - 0s - loss: 4.4926e-04 - 44ms/epoch - 2ms/step\n",
            "Epoch 76/100\n",
            "20/20 - 0s - loss: 4.4866e-04 - 44ms/epoch - 2ms/step\n",
            "Epoch 77/100\n",
            "20/20 - 0s - loss: 4.4190e-04 - 46ms/epoch - 2ms/step\n",
            "Epoch 78/100\n",
            "20/20 - 0s - loss: 4.5501e-04 - 52ms/epoch - 3ms/step\n",
            "Epoch 79/100\n",
            "20/20 - 0s - loss: 4.4144e-04 - 54ms/epoch - 3ms/step\n",
            "Epoch 80/100\n",
            "20/20 - 0s - loss: 4.3914e-04 - 57ms/epoch - 3ms/step\n",
            "Epoch 81/100\n",
            "20/20 - 0s - loss: 4.4167e-04 - 48ms/epoch - 2ms/step\n",
            "Epoch 82/100\n",
            "20/20 - 0s - loss: 4.4989e-04 - 50ms/epoch - 3ms/step\n",
            "Epoch 83/100\n",
            "20/20 - 0s - loss: 4.4723e-04 - 49ms/epoch - 2ms/step\n",
            "Epoch 84/100\n",
            "20/20 - 0s - loss: 4.4792e-04 - 67ms/epoch - 3ms/step\n",
            "Epoch 85/100\n",
            "20/20 - 0s - loss: 4.3732e-04 - 55ms/epoch - 3ms/step\n",
            "Epoch 86/100\n",
            "20/20 - 0s - loss: 4.3160e-04 - 46ms/epoch - 2ms/step\n",
            "Epoch 87/100\n",
            "20/20 - 0s - loss: 4.3658e-04 - 45ms/epoch - 2ms/step\n",
            "Epoch 88/100\n",
            "20/20 - 0s - loss: 4.3536e-04 - 44ms/epoch - 2ms/step\n",
            "Epoch 89/100\n",
            "20/20 - 0s - loss: 4.3862e-04 - 46ms/epoch - 2ms/step\n",
            "Epoch 90/100\n",
            "20/20 - 0s - loss: 4.4206e-04 - 44ms/epoch - 2ms/step\n",
            "Epoch 91/100\n",
            "20/20 - 0s - loss: 4.3755e-04 - 44ms/epoch - 2ms/step\n",
            "Epoch 92/100\n",
            "20/20 - 0s - loss: 4.3676e-04 - 45ms/epoch - 2ms/step\n",
            "Epoch 93/100\n",
            "20/20 - 0s - loss: 4.4055e-04 - 47ms/epoch - 2ms/step\n",
            "Epoch 94/100\n",
            "20/20 - 0s - loss: 4.3163e-04 - 49ms/epoch - 2ms/step\n",
            "Epoch 95/100\n",
            "20/20 - 0s - loss: 4.3230e-04 - 53ms/epoch - 3ms/step\n",
            "Epoch 96/100\n",
            "20/20 - 0s - loss: 4.3268e-04 - 52ms/epoch - 3ms/step\n",
            "Epoch 97/100\n",
            "20/20 - 0s - loss: 4.3977e-04 - 44ms/epoch - 2ms/step\n",
            "Epoch 98/100\n",
            "20/20 - 0s - loss: 4.5924e-04 - 45ms/epoch - 2ms/step\n",
            "Epoch 99/100\n",
            "20/20 - 0s - loss: 4.3331e-04 - 42ms/epoch - 2ms/step\n",
            "Epoch 100/100\n",
            "20/20 - 0s - loss: 4.3152e-04 - 43ms/epoch - 2ms/step\n",
            "20/20 [==============================] - 1s 1ms/step\n",
            "5/5 [==============================] - 0s 1ms/step\n"
          ]
        }
      ],
      "source": [
        "# Defining the LSTM model\n",
        "model = Sequential()\n",
        "model.add(LSTM(units=50, return_sequences=True, input_shape=(X_train.shape[1], 1)))\n",
        "model.add(LSTM(units=50))\n",
        "model.add(Dense(1))\n",
        "model.compile(loss='mean_squared_error', optimizer='adam')\n",
        "\n",
        "# Training the LSTM model on the training data\n",
        "history = model.fit(X_train, Y_train, epochs=100, batch_size=32, verbose=2)\n",
        "\n",
        "# Evaluating the model on the test data\n",
        "train_predict = model.predict(X_train)\n",
        "test_predict = model.predict(X_test)\n"
      ]
    },
    {
      "cell_type": "code",
      "execution_count": null,
      "metadata": {
        "id": "JsipflXMVDHc"
      },
      "outputs": [],
      "source": [
        "# Inverting the normalized data back to the original scale\n",
        "scaler.fit(tsla_close.reshape(-1, 1))\n",
        "train_predict = scaler.inverse_transform(train_predict)\n",
        "Y_train = scaler.inverse_transform(Y_train.reshape(-1, 1))\n",
        "test_predict = scaler.inverse_transform(test_predict)\n",
        "Y_test = scaler.inverse_transform(Y_test.reshape(-1,1))"
      ]
    },
    {
      "cell_type": "code",
      "execution_count": null,
      "metadata": {
        "colab": {
          "base_uri": "https://localhost:8080/"
        },
        "id": "p6tMu66JP4Li",
        "outputId": "be12e99c-eff7-4411-c96c-e0b9fd447a90"
      },
      "outputs": [
        {
          "name": "stdout",
          "output_type": "stream",
          "text": [
            "Training MAE: 0.014844177213421926\n",
            "Testing MAE: 0.02084196143255049\n"
          ]
        }
      ],
      "source": [
        "# Calculating the mean absolute error (MAE) of the training and test sets\n",
        "train_mae = np.mean(abs(train_predict - Y_train))\n",
        "test_mae = np.mean(abs(test_predict - Y_test))\n",
        "print('Training MAE:', train_mae)\n",
        "print('Testing MAE:', test_mae)"
      ]
    },
    {
      "cell_type": "code",
      "execution_count": null,
      "metadata": {},
      "outputs": [],
      "source": []
    },
    {
      "cell_type": "code",
      "execution_count": null,
      "metadata": {
        "colab": {
          "base_uri": "https://localhost:8080/",
          "height": 265
        },
        "id": "Kk5aQMd_PqkZ",
        "outputId": "c2c31ac7-c026-41c4-8b4a-18ca88fcbc85"
      },
      "outputs": [
        {
          "ename": "NameError",
          "evalue": "name 'plt' is not defined",
          "output_type": "error",
          "traceback": [
            "\u001b[0;31m---------------------------------------------------------------------------\u001b[0m",
            "\u001b[0;31mNameError\u001b[0m                                 Traceback (most recent call last)",
            "Cell \u001b[0;32mIn[1], line 2\u001b[0m\n\u001b[1;32m      1\u001b[0m \u001b[38;5;66;03m# Plotting the predicted and actual values\u001b[39;00m\n\u001b[0;32m----> 2\u001b[0m \u001b[43mplt\u001b[49m\u001b[38;5;241m.\u001b[39mplot(Y_test, label \u001b[38;5;241m=\u001b[39m \u001b[38;5;124m'\u001b[39m\u001b[38;5;124mActual\u001b[39m\u001b[38;5;124m'\u001b[39m)\n\u001b[1;32m      3\u001b[0m plt\u001b[38;5;241m.\u001b[39mplot(test_predict, label \u001b[38;5;241m=\u001b[39m \u001b[38;5;124m'\u001b[39m\u001b[38;5;124mPredicted\u001b[39m\u001b[38;5;124m'\u001b[39m)\n\u001b[1;32m      4\u001b[0m plt\u001b[38;5;241m.\u001b[39mlegend()\n",
            "\u001b[0;31mNameError\u001b[0m: name 'plt' is not defined"
          ]
        }
      ],
      "source": [
        "# Plotting the predicted and actual values\n",
        "plt.plot(Y_test, label = 'Actual')\n",
        "plt.plot(test_predict, label = 'Predicted')\n",
        "plt.legend()\n",
        "plt.show()"
      ]
    },
    {
      "cell_type": "code",
      "execution_count": null,
      "metadata": {},
      "outputs": [
        {
          "name": "stdout",
          "output_type": "stream",
          "text": [
            "1/1 [==============================] - 0s 19ms/step\n",
            "Predicted close price for tomorrow:  0.43267867\n"
          ]
        }
      ],
      "source": [
        "# Get the latest close price\n",
        "latest_close = tsla_close[-1]\n",
        "\n",
        "# Normalize the latest close price\n",
        "latest_close = latest_close.reshape(1, -1)\n",
        "latest_close = scaler.transform(latest_close)\n",
        "\n",
        "# Reshape the latest close price into a 3D array\n",
        "latest_close = np.reshape(latest_close, (1, lookback, 1))\n",
        "\n",
        "# Predict the close price for tomorrow\n",
        "tomorrow_predict = model.predict(latest_close)\n",
        "\n",
        "# Invert the normalized prediction back to the original scale\n",
        "tomorrow_predict = scaler.inverse_transform(tomorrow_predict)\n",
        "\n",
        "# Print the prediction\n",
        "print(\"Predicted close price for tomorrow: \", tomorrow_predict[0][0])\n"
      ]
    },
    {
      "cell_type": "code",
      "execution_count": null,
      "metadata": {},
      "outputs": [
        {
          "name": "stdout",
          "output_type": "stream",
          "text": [
            "Predicted close price for tomorrow:  0.34591573\n"
          ]
        }
      ],
      "source": [
        "scaler.fit(tsla_close.reshape(-1, 1))\n",
        "predicted_price = scaler.inverse_transform(np.array([[0.34591573]]))\n",
        "print(\"Predicted close price for tomorrow: \", predicted_price[0][0])\n"
      ]
    },
    {
      "cell_type": "code",
      "execution_count": null,
      "metadata": {},
      "outputs": [
        {
          "name": "stdout",
          "output_type": "stream",
          "text": [
            "Latest actual close price:  [0.43553197]\n"
          ]
        }
      ],
      "source": [
        "# Get the latest actual value\n",
        "latest_actual = Y_test[-1]\n",
        "print(\"Latest actual close price: \", latest_actual)\n"
      ]
    },
    {
      "cell_type": "code",
      "execution_count": null,
      "metadata": {},
      "outputs": [
        {
          "name": "stdout",
          "output_type": "stream",
          "text": [
            "Model: \"sequential_4\"\n",
            "_________________________________________________________________\n",
            " Layer (type)                Output Shape              Param #   \n",
            "=================================================================\n",
            " lstm_8 (LSTM)               (None, 1, 50)             10400     \n",
            "                                                                 \n",
            " lstm_9 (LSTM)               (None, 50)                20200     \n",
            "                                                                 \n",
            " dense_4 (Dense)             (None, 1)                 51        \n",
            "                                                                 \n",
            "=================================================================\n",
            "Total params: 30,651\n",
            "Trainable params: 30,651\n",
            "Non-trainable params: 0\n",
            "_________________________________________________________________\n"
          ]
        }
      ],
      "source": [
        "model.summary()"
      ]
    }
  ],
  "metadata": {
    "accelerator": "GPU",
    "colab": {
      "provenance": []
    },
    "gpuClass": "standard",
    "kernelspec": {
      "display_name": "Python 3",
      "language": "python",
      "name": "python3"
    },
    "language_info": {
      "codemirror_mode": {
        "name": "ipython",
        "version": 3
      },
      "file_extension": ".py",
      "mimetype": "text/x-python",
      "name": "python",
      "nbconvert_exporter": "python",
      "pygments_lexer": "ipython3",
      "version": "3.12.2"
    },
    "vscode": {
      "interpreter": {
        "hash": "553938beef47038dfb95f51e64d059a1195c8ba1d56a7d809f7c9076f321f3c1"
      }
    }
  },
  "nbformat": 4,
  "nbformat_minor": 0
}
